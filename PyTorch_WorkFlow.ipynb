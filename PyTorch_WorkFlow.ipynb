{
  "nbformat": 4,
  "nbformat_minor": 0,
  "metadata": {
    "colab": {
      "provenance": [],
      "gpuType": "T4",
      "authorship_tag": "ABX9TyPHeCRlvsgOrJBuHL1lD/7H",
      "include_colab_link": true
    },
    "kernelspec": {
      "name": "python3",
      "display_name": "Python 3"
    },
    "language_info": {
      "name": "python"
    },
    "accelerator": "GPU"
  },
  "cells": [
    {
      "cell_type": "markdown",
      "metadata": {
        "id": "view-in-github",
        "colab_type": "text"
      },
      "source": [
        "<a href=\"https://colab.research.google.com/github/Vengadesh58/Pytorch/blob/main/PyTorch_WorkFlow.ipynb\" target=\"_parent\"><img src=\"https://colab.research.google.com/assets/colab-badge.svg\" alt=\"Open In Colab\"/></a>"
      ]
    },
    {
      "cell_type": "code",
      "execution_count": 294,
      "metadata": {
        "id": "1KRoTHvKS6Ys"
      },
      "outputs": [],
      "source": [
        "import torch\n",
        "import pandas as pd\n",
        "import numpy as np\n",
        "import matplotlib.pyplot as plt\n",
        "import seaborn as sns\n",
        "import warnings\n",
        "warnings.filterwarnings(\"ignore\")"
      ]
    },
    {
      "cell_type": "code",
      "source": [
        "!nvidia-smi"
      ],
      "metadata": {
        "colab": {
          "base_uri": "https://localhost:8080/"
        },
        "id": "5rDNhzt0TP3I",
        "outputId": "670c8be2-131f-4a8c-ef2a-954d1a836d5a"
      },
      "execution_count": 295,
      "outputs": [
        {
          "output_type": "stream",
          "name": "stdout",
          "text": [
            "Tue Aug 27 04:48:05 2024       \n",
            "+---------------------------------------------------------------------------------------+\n",
            "| NVIDIA-SMI 535.104.05             Driver Version: 535.104.05   CUDA Version: 12.2     |\n",
            "|-----------------------------------------+----------------------+----------------------+\n",
            "| GPU  Name                 Persistence-M | Bus-Id        Disp.A | Volatile Uncorr. ECC |\n",
            "| Fan  Temp   Perf          Pwr:Usage/Cap |         Memory-Usage | GPU-Util  Compute M. |\n",
            "|                                         |                      |               MIG M. |\n",
            "|=========================================+======================+======================|\n",
            "|   0  Tesla T4                       Off | 00000000:00:04.0 Off |                    0 |\n",
            "| N/A   41C    P8               9W /  70W |      3MiB / 15360MiB |      0%      Default |\n",
            "|                                         |                      |                  N/A |\n",
            "+-----------------------------------------+----------------------+----------------------+\n",
            "                                                                                         \n",
            "+---------------------------------------------------------------------------------------+\n",
            "| Processes:                                                                            |\n",
            "|  GPU   GI   CI        PID   Type   Process name                            GPU Memory |\n",
            "|        ID   ID                                                             Usage      |\n",
            "|=======================================================================================|\n",
            "|  No running processes found                                                           |\n",
            "+---------------------------------------------------------------------------------------+\n"
          ]
        }
      ]
    },
    {
      "cell_type": "code",
      "source": [
        "torch.cuda.is_available()"
      ],
      "metadata": {
        "colab": {
          "base_uri": "https://localhost:8080/"
        },
        "id": "MR8NzdlCTbUV",
        "outputId": "dce76dfb-5fcc-427d-ca8b-64af4161e160"
      },
      "execution_count": 296,
      "outputs": [
        {
          "output_type": "execute_result",
          "data": {
            "text/plain": [
              "True"
            ]
          },
          "metadata": {},
          "execution_count": 296
        }
      ]
    },
    {
      "cell_type": "code",
      "source": [
        "device = \"cuda\" if torch.cuda.is_available() else \"cpu\"\n",
        "device"
      ],
      "metadata": {
        "colab": {
          "base_uri": "https://localhost:8080/",
          "height": 35
        },
        "id": "UsqtNjkATxhF",
        "outputId": "4496285b-5e5f-4dc7-d8b2-44a8d105708d"
      },
      "execution_count": 297,
      "outputs": [
        {
          "output_type": "execute_result",
          "data": {
            "text/plain": [
              "'cuda'"
            ],
            "application/vnd.google.colaboratory.intrinsic+json": {
              "type": "string"
            }
          },
          "metadata": {},
          "execution_count": 297
        }
      ]
    },
    {
      "cell_type": "code",
      "source": [
        "what_were_covering = {1:\"data loading\",\n",
        "                      2:\"buil dmodel\",\n",
        "                      3:\"fitting the model\",\n",
        "                      4:\"making predictions\",\n",
        "                      5:\"saving and loading\",\n",
        "                      6:\"putting it all together\",\n",
        "                      }\n",
        "what_were_covering"
      ],
      "metadata": {
        "colab": {
          "base_uri": "https://localhost:8080/"
        },
        "id": "kdMw0LOYT8Xe",
        "outputId": "7469fef3-8eae-4580-d074-a83bdd565bd0"
      },
      "execution_count": 298,
      "outputs": [
        {
          "output_type": "execute_result",
          "data": {
            "text/plain": [
              "{1: 'data loading',\n",
              " 2: 'buil dmodel',\n",
              " 3: 'fitting the model',\n",
              " 4: 'making predictions',\n",
              " 5: 'saving and loading',\n",
              " 6: 'putting it all together'}"
            ]
          },
          "metadata": {},
          "execution_count": 298
        }
      ]
    },
    {
      "cell_type": "code",
      "source": [
        "import torch\n",
        "from torch import nn # nn contains all of PyTorchs building blocks\n",
        "import matplotlib.pyplot as plt\n",
        "#check pyTorch version\n",
        "torch.__version__"
      ],
      "metadata": {
        "colab": {
          "base_uri": "https://localhost:8080/",
          "height": 35
        },
        "id": "ksAn9vPQiX5p",
        "outputId": "e5b4359c-1e06-464a-c9e7-8b5cbd26773d"
      },
      "execution_count": 299,
      "outputs": [
        {
          "output_type": "execute_result",
          "data": {
            "text/plain": [
              "'2.4.0+cu121'"
            ],
            "application/vnd.google.colaboratory.intrinsic+json": {
              "type": "string"
            }
          },
          "metadata": {},
          "execution_count": 299
        }
      ]
    },
    {
      "cell_type": "markdown",
      "source": [
        "## 1. Data (Preparing and loading)\n",
        "\n",
        "Data can be anything... in machine learning\n",
        "\n",
        "* ecel\n",
        "* Images of any kind\n",
        "* videos\n",
        "* Audio\n",
        "* DNA\n",
        "* Text\n",
        "\n",
        "1. Get data into numerical representation\n",
        "2. build a model to learn the patterns in that numerical representation"
      ],
      "metadata": {
        "id": "qfkNjr9ijZWy"
      }
    },
    {
      "cell_type": "code",
      "source": [
        "##  Data (Preparing and loading)\n",
        "\n",
        "weight = 0.7\n",
        "bias = 0.3\n",
        "\n",
        "# create\n",
        "\n",
        "start = 0\n",
        "end = 10\n",
        "step = 0.02\n",
        "X = torch.arange(start, end, step).unsqueeze(dim=1)\n",
        "y = weight * X + bias\n",
        "\n",
        "X[:10], y[:10],\n"
      ],
      "metadata": {
        "colab": {
          "base_uri": "https://localhost:8080/"
        },
        "id": "Kw2ZolR0jMvj",
        "outputId": "b0f4ebbd-56b9-43c3-c8e5-821d3ae06360"
      },
      "execution_count": 300,
      "outputs": [
        {
          "output_type": "execute_result",
          "data": {
            "text/plain": [
              "(tensor([[0.0000],\n",
              "         [0.0200],\n",
              "         [0.0400],\n",
              "         [0.0600],\n",
              "         [0.0800],\n",
              "         [0.1000],\n",
              "         [0.1200],\n",
              "         [0.1400],\n",
              "         [0.1600],\n",
              "         [0.1800]]),\n",
              " tensor([[0.3000],\n",
              "         [0.3140],\n",
              "         [0.3280],\n",
              "         [0.3420],\n",
              "         [0.3560],\n",
              "         [0.3700],\n",
              "         [0.3840],\n",
              "         [0.3980],\n",
              "         [0.4120],\n",
              "         [0.4260]]))"
            ]
          },
          "metadata": {},
          "execution_count": 300
        }
      ]
    },
    {
      "cell_type": "code",
      "source": [
        "len(X), len(y)"
      ],
      "metadata": {
        "colab": {
          "base_uri": "https://localhost:8080/"
        },
        "id": "8UMKSD47kaP3",
        "outputId": "bb3bb90a-9a7f-49c6-b94b-51ebb3844f4b"
      },
      "execution_count": 301,
      "outputs": [
        {
          "output_type": "execute_result",
          "data": {
            "text/plain": [
              "(500, 500)"
            ]
          },
          "metadata": {},
          "execution_count": 301
        }
      ]
    },
    {
      "cell_type": "markdown",
      "source": [
        "### Splitting the data into training and test data\n"
      ],
      "metadata": {
        "id": "bAl1ouY9mVF-"
      }
    },
    {
      "cell_type": "code",
      "source": [
        "# create a train/test split\n",
        "\n",
        "train_split = int(0.8 * len(X))\n",
        "X_train, y_train = X[:train_split], y[:train_split]\n",
        "X_test, y_test = X[train_split:], y[train_split:]\n",
        "len(X_train), len(y_train), len(X_test), len(y_test)\n"
      ],
      "metadata": {
        "colab": {
          "base_uri": "https://localhost:8080/"
        },
        "id": "uYYiUJeekt5_",
        "outputId": "f45853da-c8a3-4a3b-d25b-ba833fffcf2d"
      },
      "execution_count": 302,
      "outputs": [
        {
          "output_type": "execute_result",
          "data": {
            "text/plain": [
              "(400, 400, 100, 100)"
            ]
          },
          "metadata": {},
          "execution_count": 302
        }
      ]
    },
    {
      "cell_type": "markdown",
      "source": [
        "### Visualizing the data"
      ],
      "metadata": {
        "id": "piTCrkYRo8zW"
      }
    },
    {
      "cell_type": "code",
      "source": [
        "def plot_predictions(train_data=X_train,\n",
        "                    train_labels=y_train,\n",
        "                    test_data=X_test,\n",
        "                    test_labels=y_test,\n",
        "                    predictions=None):\n",
        "\n",
        "  \"\"\" Plots training data, test data and compares predictions\"\"\"\n",
        "  plt.figure(figsize=(10,7))\n",
        "\n",
        "  #Plot training data in blue\n",
        "  plt.scatter(train_data, train_labels, c=\"b\", s=4, label=\"Training data\")\n",
        "\n",
        "  #Plot test data in green\n",
        "  plt.scatter(test_data, test_labels, c=\"g\", s=4, label=\"Test data\")\n",
        "\n",
        "  if predictions is not None:\n",
        "\n",
        "    #Plot predictions in red\n",
        "    plt.scatter(test_data, predictions, c=\"r\", s=4, label=\"Predictions\")\n",
        "\n",
        "  #Show the legend\n",
        "  plt.legend(prop={\"size\":10})\n",
        "  plt.show()"
      ],
      "metadata": {
        "id": "SeS_d2sLmREI"
      },
      "execution_count": 303,
      "outputs": []
    },
    {
      "cell_type": "code",
      "source": [
        "plot_predictions()"
      ],
      "metadata": {
        "colab": {
          "base_uri": "https://localhost:8080/",
          "height": 599
        },
        "id": "UpjnQ1c9pF-L",
        "outputId": "b7202d47-a3a1-4a7a-8303-60867612be5e"
      },
      "execution_count": 304,
      "outputs": [
        {
          "output_type": "display_data",
          "data": {
            "text/plain": [
              "<Figure size 1000x700 with 1 Axes>"
            ],
            "image/png": "[encoded data removed]"
          },
          "metadata": {}
        }
      ]
    },
    {
      "cell_type": "markdown",
      "source": [
        "## Building a first PyTorch Model"
      ],
      "metadata": {
        "id": "kvUHp-M2qWJr"
      }
    },
    {
      "cell_type": "code",
      "source": [
        "# Create linear regression model class\n",
        "class LinearRegressionModel(nn.Module):\n",
        "\n",
        "  #constructor\n",
        "  def __init__(self):\n",
        "    super().__init__()\n",
        "\n",
        "    # Initialize model parameters\n",
        "    self.weights = nn.Parameter(torch.randn(1,\n",
        "                                            requires_grad=True,\n",
        "                                            dtype=torch.float))\n",
        "    self.bias = nn.Parameter(torch.randn(1,\n",
        "                                          requires_grad=True,\n",
        "                                          dtype=torch.float))\n",
        "\n",
        "  #operations to perform\n",
        "  #forward method to define the computation in the model\n",
        "  def forward(self, x: torch.Tensor) -> torch.Tensor: # x is the input data\n",
        "    return self.weights * x + self.bias #this is the linear regression formula"
      ],
      "metadata": {
        "id": "g2fggOdDpgND"
      },
      "execution_count": 305,
      "outputs": []
    },
    {
      "cell_type": "markdown",
      "source": [
        "### PyTorch model building essentials\n",
        "\n",
        "* computatiol graphs"
      ],
      "metadata": {
        "id": "iEs-mnXxwYC1"
      }
    },
    {
      "cell_type": "code",
      "source": [
        " ### checking the contents of our PyTorch Model\n",
        "\n",
        "#create a radom seed\n",
        "torch.manual_seed(42)\n",
        "\n",
        "#create an instance of the model\n",
        "model_0 = LinearRegressionModel()\n",
        "\n",
        "#check the model parameters\n",
        "list(model_0.parameters())\n"
      ],
      "metadata": {
        "colab": {
          "base_uri": "https://localhost:8080/"
        },
        "id": "SSFzrBjDsNcs",
        "outputId": "7cd8f165-f32d-4889-bbdb-cf05768fcda1"
      },
      "execution_count": 306,
      "outputs": [
        {
          "output_type": "execute_result",
          "data": {
            "text/plain": [
              "[Parameter containing:\n",
              " tensor([0.3367], requires_grad=True),\n",
              " Parameter containing:\n",
              " tensor([0.1288], requires_grad=True)]"
            ]
          },
          "metadata": {},
          "execution_count": 306
        }
      ]
    },
    {
      "cell_type": "code",
      "source": [
        "# List the name parameters\n",
        "model_0.state_dict()"
      ],
      "metadata": {
        "colab": {
          "base_uri": "https://localhost:8080/"
        },
        "id": "zhO-m7Yuxkt6",
        "outputId": "2d105546-f3a5-4ba5-a7a9-9d15415b881a"
      },
      "execution_count": 307,
      "outputs": [
        {
          "output_type": "execute_result",
          "data": {
            "text/plain": [
              "OrderedDict([('weights', tensor([0.3367])), ('bias', tensor([0.1288]))])"
            ]
          },
          "metadata": {},
          "execution_count": 307
        }
      ]
    },
    {
      "cell_type": "markdown",
      "source": [
        "### Making thr prediction using 'torch.inference_mode()'"
      ],
      "metadata": {
        "id": "Xbc_ALs2ycsb"
      }
    },
    {
      "cell_type": "code",
      "source": [
        "#make prediction with model\n",
        "\n",
        "with torch.inference_mode():\n",
        "  y_preds = model_0(X_test)\n",
        "\n",
        "y_preds[:10]"
      ],
      "metadata": {
        "colab": {
          "base_uri": "https://localhost:8080/"
        },
        "id": "MMX7__-QyIY_",
        "outputId": "2dd39aef-57e8-4504-b6a7-4195720ccddc"
      },
      "execution_count": 308,
      "outputs": [
        {
          "output_type": "execute_result",
          "data": {
            "text/plain": [
              "tensor([[2.8223],\n",
              "        [2.8291],\n",
              "        [2.8358],\n",
              "        [2.8425],\n",
              "        [2.8493],\n",
              "        [2.8560],\n",
              "        [2.8627],\n",
              "        [2.8695],\n",
              "        [2.8762],\n",
              "        [2.8829]])"
            ]
          },
          "metadata": {},
          "execution_count": 308
        }
      ]
    },
    {
      "cell_type": "code",
      "source": [
        "y_test[:10]"
      ],
      "metadata": {
        "colab": {
          "base_uri": "https://localhost:8080/"
        },
        "id": "xJS5K5hUyx64",
        "outputId": "78b3bbe9-c076-4660-eab1-acbe5976ea05"
      },
      "execution_count": 309,
      "outputs": [
        {
          "output_type": "execute_result",
          "data": {
            "text/plain": [
              "tensor([[5.9000],\n",
              "        [5.9140],\n",
              "        [5.9280],\n",
              "        [5.9420],\n",
              "        [5.9560],\n",
              "        [5.9700],\n",
              "        [5.9840],\n",
              "        [5.9980],\n",
              "        [6.0120],\n",
              "        [6.0260]])"
            ]
          },
          "metadata": {},
          "execution_count": 309
        }
      ]
    },
    {
      "cell_type": "code",
      "source": [
        "plot_predictions(predictions=y_preds)"
      ],
      "metadata": {
        "colab": {
          "base_uri": "https://localhost:8080/",
          "height": 599
        },
        "id": "aiAE9gXpzMOv",
        "outputId": "c2a4a09d-1afe-431b-fb72-9aa439f10155"
      },
      "execution_count": 310,
      "outputs": [
        {
          "output_type": "display_data",
          "data": {
            "text/plain": [
              "<Figure size 1000x700 with 1 Axes>"
            ],
            "image/png": "[encoded data removed]"
          },
          "metadata": {}
        }
      ]
    },
    {
      "cell_type": "markdown",
      "source": [
        "## Train model\n",
        "\n",
        "The whole idea of training is for model to move from some *unknown* parameters to some *known* prameters\n",
        "\n",
        "**Loss function:** A function to measure how wrong the model is\n",
        "\n",
        "**Optimizer:**"
      ],
      "metadata": {
        "id": "COUdJ0oa22DK"
      }
    },
    {
      "cell_type": "code",
      "source": [
        "list(model_0.parameters()), model_0.state_dict()"
      ],
      "metadata": {
        "colab": {
          "base_uri": "https://localhost:8080/"
        },
        "id": "RVmcJok3zO1d",
        "outputId": "145e9fef-2fff-41a8-abd7-21fed66bffa0"
      },
      "execution_count": 311,
      "outputs": [
        {
          "output_type": "execute_result",
          "data": {
            "text/plain": [
              "([Parameter containing:\n",
              "  tensor([0.3367], requires_grad=True),\n",
              "  Parameter containing:\n",
              "  tensor([0.1288], requires_grad=True)],\n",
              " OrderedDict([('weights', tensor([0.3367])), ('bias', tensor([0.1288]))]))"
            ]
          },
          "metadata": {},
          "execution_count": 311
        }
      ]
    },
    {
      "cell_type": "code",
      "source": [
        "#Setup a loss fucntion\n",
        "loss_fn = nn.L1Loss()\n",
        "\n",
        "\n",
        "#setup optimizer\n",
        "optimizer = torch.optim.SGD(params=model_0.parameters(),\n",
        "                            lr=0.01) #lr = learning rate\n"
      ],
      "metadata": {
        "id": "a0uyabmI30xM"
      },
      "execution_count": 312,
      "outputs": []
    },
    {
      "cell_type": "markdown",
      "source": [
        "### Building a Training loop and testing loop"
      ],
      "metadata": {
        "id": "Q5RbbtyRAZ58"
      }
    },
    {
      "cell_type": "code",
      "source": [
        "# An epoch is one loop through the data\n",
        "\n",
        "epochs = 200\n",
        "\n",
        "#track different values\n",
        "epoch_count = []\n",
        "loss_values = []\n",
        "test_loss_values = []\n",
        "\n",
        "\n",
        "# 0. Loop throught the data\n",
        "for epoch in range(epochs):\n",
        "\n",
        "  #set the model to training mode\n",
        "  model_0.train() # train mode in PyTorch sets all parameters that require graietns to require graidents\n",
        "\n",
        "  #1. forward pass\n",
        "  y_pred = model_0(X_train)\n",
        "\n",
        "  #2. Calculate the loss\n",
        "  loss = loss_fn(y_pred, y_train)\n",
        "\n",
        "\n",
        "  #3. Optimizer zero grad\n",
        "  optimizer.zero_grad()\n",
        "\n",
        "  #4. perform  backpropagation\n",
        "  loss.backward()\n",
        "\n",
        "  #5. Optimizer step(gradient decent)\n",
        "  optimizer.step() # by deafult how the optimizer changes will accumelate the loops so we have to zero them before the next loop\n",
        "\n",
        "\n",
        "  ## testing\n",
        "  model_0.eval()\n",
        "\n",
        "  with torch.inference_mode():\n",
        "\n",
        "    # 1. do a forward pass\n",
        "    test_pred = model_0(X_test)\n",
        "\n",
        "    #2. calculate the loss\n",
        "    test_loss = loss_fn(test_pred, y_test)\n",
        "\n",
        "  #print out model state\n",
        "  #print(model_0.state_dict())\n",
        "  if epoch % 10 == 0:\n",
        "    epoch_count.append(epoch)\n",
        "    loss_values.append(loss.detach().numpy())\n",
        "    test_loss_values.append(test_loss.detach().numpy())\n",
        "    print(f\"Epoch: {epoch} | Loss: {loss} | Test loss: {test_loss}\")\n",
        "\n",
        "\n",
        "print(f\" final training loss value:{loss}\")\n",
        "print(f\" final test loss value:{test_loss}\")\n",
        "print(model_0.state_dict())\n",
        "\n"
      ],
      "metadata": {
        "id": "bRrrKrXk_8Kn",
        "colab": {
          "base_uri": "https://localhost:8080/"
        },
        "outputId": "691b1d27-8413-4481-c434-54ef90974c26"
      },
      "execution_count": 313,
      "outputs": [
        {
          "output_type": "stream",
          "name": "stdout",
          "text": [
            "Epoch: 0 | Loss: 1.6207962036132812 | Test loss: 3.068643569946289\n",
            "Epoch: 10 | Loss: 0.08914265781641006 | Test loss: 0.06953469663858414\n",
            "Epoch: 20 | Loss: 0.1296853870153427 | Test loss: 0.009073900990188122\n",
            "Epoch: 30 | Loss: 0.08977238833904266 | Test loss: 0.11063224077224731\n",
            "Epoch: 40 | Loss: 0.12345146387815475 | Test loss: 0.055647946894168854\n",
            "Epoch: 50 | Loss: 0.13901644945144653 | Test loss: 0.031138457357883453\n",
            "Epoch: 60 | Loss: 0.14793531596660614 | Test loss: 0.01796717196702957\n",
            "Epoch: 70 | Loss: 0.15352126955986023 | Test loss: 0.010331506840884686\n",
            "Epoch: 80 | Loss: 0.15705591440200806 | Test loss: 0.00579041475430131\n",
            "Epoch: 90 | Loss: 0.15946456789970398 | Test loss: 0.00297437678091228\n",
            "Epoch: 100 | Loss: 0.1610850691795349 | Test loss: 0.0011118602706119418\n",
            "Epoch: 110 | Loss: 0.1622488796710968 | Test loss: 0.0007064151577651501\n",
            "Epoch: 120 | Loss: 0.16310839354991913 | Test loss: 0.001109647797420621\n",
            "Epoch: 130 | Loss: 0.1571386456489563 | Test loss: 0.012878523208200932\n",
            "Epoch: 140 | Loss: 0.1576538383960724 | Test loss: 0.012333264574408531\n",
            "Epoch: 150 | Loss: 0.157956063747406 | Test loss: 0.012083401903510094\n",
            "Epoch: 160 | Loss: 0.15820467472076416 | Test loss: 0.011833539232611656\n",
            "Epoch: 170 | Loss: 0.1584533005952835 | Test loss: 0.011583676561713219\n",
            "Epoch: 180 | Loss: 0.15850313007831573 | Test loss: 0.011583676561713219\n",
            "Epoch: 190 | Loss: 0.15850313007831573 | Test loss: 0.011583676561713219\n",
            " final training loss value:0.010697946883738041\n",
            " final test loss value:0.357117623090744\n",
            "OrderedDict([('weights', tensor([0.7397])), ('bias', tensor([0.3000]))])\n"
          ]
        }
      ]
    },
    {
      "cell_type": "code",
      "source": [
        "model_0.state_dict()"
      ],
      "metadata": {
        "id": "inzjsGxZCqPK",
        "colab": {
          "base_uri": "https://localhost:8080/"
        },
        "outputId": "b5dfed0b-4772-41e2-f66a-bc949e589375"
      },
      "execution_count": 314,
      "outputs": [
        {
          "output_type": "execute_result",
          "data": {
            "text/plain": [
              "OrderedDict([('weights', tensor([0.7397])), ('bias', tensor([0.3000]))])"
            ]
          },
          "metadata": {},
          "execution_count": 314
        }
      ]
    },
    {
      "cell_type": "markdown",
      "source": [
        "## Plot the loss curve"
      ],
      "metadata": {
        "id": "7B6rIzROJMbr"
      }
    },
    {
      "cell_type": "code",
      "source": [
        "loss_values"
      ],
      "metadata": {
        "colab": {
          "base_uri": "https://localhost:8080/"
        },
        "id": "OmxnnaTcJkqe",
        "outputId": "9f1cc98d-76fc-4840-ea55-155d8f5b3486"
      },
      "execution_count": 315,
      "outputs": [
        {
          "output_type": "execute_result",
          "data": {
            "text/plain": [
              "[array(1.6207962, dtype=float32),\n",
              " array(0.08914266, dtype=float32),\n",
              " array(0.12968539, dtype=float32),\n",
              " array(0.08977239, dtype=float32),\n",
              " array(0.12345146, dtype=float32),\n",
              " array(0.13901645, dtype=float32),\n",
              " array(0.14793532, dtype=float32),\n",
              " array(0.15352127, dtype=float32),\n",
              " array(0.15705591, dtype=float32),\n",
              " array(0.15946457, dtype=float32),\n",
              " array(0.16108507, dtype=float32),\n",
              " array(0.16224888, dtype=float32),\n",
              " array(0.1631084, dtype=float32),\n",
              " array(0.15713865, dtype=float32),\n",
              " array(0.15765384, dtype=float32),\n",
              " array(0.15795606, dtype=float32),\n",
              " array(0.15820467, dtype=float32),\n",
              " array(0.1584533, dtype=float32),\n",
              " array(0.15850313, dtype=float32),\n",
              " array(0.15850313, dtype=float32)]"
            ]
          },
          "metadata": {},
          "execution_count": 315
        }
      ]
    },
    {
      "cell_type": "code",
      "source": [
        "# Plot the loss curves\n",
        "plt.plot(epoch_count, loss_values, label=\"Train loss\")\n",
        "plt.plot(epoch_count, test_loss_values, label=\"Test loss\")\n",
        "plt.title(\"Training and test loss curves\")\n",
        "plt.ylabel(\"Loss\")\n",
        "plt.xlabel(\"Epochs\")\n",
        "plt.legend();"
      ],
      "metadata": {
        "colab": {
          "base_uri": "https://localhost:8080/",
          "height": 472
        },
        "id": "kja_1Qm4JLoX",
        "outputId": "76ac0fd9-c18f-48bb-de73-15b4f3234a3f"
      },
      "execution_count": 316,
      "outputs": [
        {
          "output_type": "display_data",
          "data": {
            "text/plain": [
              "<Figure size 640x480 with 1 Axes>"
            ],
            "image/png": "[encoded data removed]"
          },
          "metadata": {}
        }
      ]
    },
    {
      "cell_type": "code",
      "source": [
        "with torch.inference_mode():\n",
        "\n",
        "  y_preds_new = model_0(X_test)"
      ],
      "metadata": {
        "id": "uUmCkJFDCvG9"
      },
      "execution_count": 317,
      "outputs": []
    },
    {
      "cell_type": "code",
      "source": [
        "plot_predictions(predictions=y_preds_new)"
      ],
      "metadata": {
        "colab": {
          "base_uri": "https://localhost:8080/",
          "height": 601
        },
        "id": "st48Rhk-CNmQ",
        "outputId": "b76cd164-42a0-4950-d797-ce1ba4e49ad8"
      },
      "execution_count": 319,
      "outputs": [
        {
          "output_type": "display_data",
          "data": {
            "text/plain": [
              "<Figure size 1000x700 with 1 Axes>"
            ],
            "image/png": "[encoded data removed]"
          },
          "metadata": {}
        }
      ]
    },
    {
      "cell_type": "markdown",
      "source": [
        "## Saving the Model\n",
        "\n",
        "1. `torch.save()` - saving it in pytohn pickle format\n",
        "2. `torch.load()` - allows you to load a saved PyTorch model\n",
        "3. `torch.nn.Module.load_state_dict()` - this allows to load a model's saved state dictionary"
      ],
      "metadata": {
        "id": "MSnxO-ihLaJa"
      }
    },
    {
      "cell_type": "code",
      "source": [
        "#saving the PyTorch model\n",
        "\n",
        "from pathlib import Path\n",
        "\n",
        "#1.create model directory\n",
        "\n",
        "MODEL_PATH = Path(\"Models\")\n",
        "MODEL_PATH.mkdir(parents=True, exist_ok=True)\n",
        "\n",
        "#2. create model save path\n",
        "MODEL_NAME = \"01_pytorch_workflow_model_0.pth\"\n",
        "MODEL_SAVE_PATH = MODEL_PATH/MODEL_NAME\n",
        "\n",
        "#3. save the model state dict\n",
        "print(f\"Saving model to: {MODEL_SAVE_PATH}\")\n",
        "torch.save(obj=model_0.state_dict(),\n",
        "           f=MODEL_SAVE_PATH)\n"
      ],
      "metadata": {
        "colab": {
          "base_uri": "https://localhost:8080/"
        },
        "id": "hPy9JzJoLVEE",
        "outputId": "f547d798-ec55-409f-ca98-8a3802509ec8"
      },
      "execution_count": 322,
      "outputs": [
        {
          "output_type": "stream",
          "name": "stdout",
          "text": [
            "Saving model to: Models/01_pytorch_workflow_model_0.pth\n"
          ]
        }
      ]
    },
    {
      "cell_type": "code",
      "source": [
        "# Check the saved file path\n",
        "!ls -l Models/01_pytorch_workflow_model_0.pth"
      ],
      "metadata": {
        "colab": {
          "base_uri": "https://localhost:8080/"
        },
        "id": "dnz78Ml5NBS5",
        "outputId": "321af166-86fc-4e66-87ba-6fc4e827d7a6"
      },
      "execution_count": 324,
      "outputs": [
        {
          "output_type": "stream",
          "name": "stdout",
          "text": [
            "-rw-r--r-- 1 root root 1680 Aug 27 04:59 Models/01_pytorch_workflow_model_0.pth\n"
          ]
        }
      ]
    },
    {
      "cell_type": "code",
      "source": [
        "## Loading the model\n",
        "loaded_model_0 = LinearRegressionModel()\n",
        "\n",
        "#load thr state dict to the newly created model\n",
        "loaded_model_0.load_state_dict(torch.load(f=MODEL_SAVE_PATH))\n"
      ],
      "metadata": {
        "colab": {
          "base_uri": "https://localhost:8080/"
        },
        "id": "-nevsnxGNTkM",
        "outputId": "9f94aaaa-07e2-46f9-aaf0-3ed6b4d55768"
      },
      "execution_count": 325,
      "outputs": [
        {
          "output_type": "execute_result",
          "data": {
            "text/plain": [
              "<All keys matched successfully>"
            ]
          },
          "metadata": {},
          "execution_count": 325
        }
      ]
    },
    {
      "cell_type": "code",
      "source": [
        "loaded_model_0.state_dict()"
      ],
      "metadata": {
        "colab": {
          "base_uri": "https://localhost:8080/"
        },
        "id": "-kAevTg5OYgo",
        "outputId": "d2170a50-956a-4b09-9ff9-1eaae6a169b2"
      },
      "execution_count": 326,
      "outputs": [
        {
          "output_type": "execute_result",
          "data": {
            "text/plain": [
              "OrderedDict([('weights', tensor([0.7397])), ('bias', tensor([0.3000]))])"
            ]
          },
          "metadata": {},
          "execution_count": 326
        }
      ]
    },
    {
      "cell_type": "code",
      "source": [],
      "metadata": {
        "id": "wW8zMBeyOceS"
      },
      "execution_count": null,
      "outputs": []
    }
  ]
}